{
  "nbformat": 4,
  "nbformat_minor": 0,
  "metadata": {
    "colab": {
      "provenance": [],
      "include_colab_link": true
    },
    "kernelspec": {
      "name": "python3",
      "display_name": "Python 3"
    },
    "language_info": {
      "name": "python"
    },
    "gpuClass": "standard",
    "accelerator": "GPU",
    "widgets": {
      "application/vnd.jupyter.widget-state+json": {
        "b1fa5e5498d24692a71ecb53701f1907": {
          "model_module": "@jupyter-widgets/controls",
          "model_name": "HBoxModel",
          "model_module_version": "1.5.0",
          "state": {
            "_dom_classes": [],
            "_model_module": "@jupyter-widgets/controls",
            "_model_module_version": "1.5.0",
            "_model_name": "HBoxModel",
            "_view_count": null,
            "_view_module": "@jupyter-widgets/controls",
            "_view_module_version": "1.5.0",
            "_view_name": "HBoxView",
            "box_style": "",
            "children": [
              "IPY_MODEL_49939fa9de494c82b5b2f3c3d0996950",
              "IPY_MODEL_1d8e760852df437ab57bcb005c935c06",
              "IPY_MODEL_48e512ed73df4ef6a909a8d2c1575c0b"
            ],
            "layout": "IPY_MODEL_799fe20db3a545f7beaf26248a4e31da"
          }
        },
        "49939fa9de494c82b5b2f3c3d0996950": {
          "model_module": "@jupyter-widgets/controls",
          "model_name": "HTMLModel",
          "model_module_version": "1.5.0",
          "state": {
            "_dom_classes": [],
            "_model_module": "@jupyter-widgets/controls",
            "_model_module_version": "1.5.0",
            "_model_name": "HTMLModel",
            "_view_count": null,
            "_view_module": "@jupyter-widgets/controls",
            "_view_module_version": "1.5.0",
            "_view_name": "HTMLView",
            "description": "",
            "description_tooltip": null,
            "layout": "IPY_MODEL_d2a2c7e7fe1d4892a9800e1abe15a58e",
            "placeholder": "​",
            "style": "IPY_MODEL_3b45dedb321f41638e5cda0d5debb1e3",
            "value": " 12%"
          }
        },
        "1d8e760852df437ab57bcb005c935c06": {
          "model_module": "@jupyter-widgets/controls",
          "model_name": "FloatProgressModel",
          "model_module_version": "1.5.0",
          "state": {
            "_dom_classes": [],
            "_model_module": "@jupyter-widgets/controls",
            "_model_module_version": "1.5.0",
            "_model_name": "FloatProgressModel",
            "_view_count": null,
            "_view_module": "@jupyter-widgets/controls",
            "_view_module_version": "1.5.0",
            "_view_name": "ProgressView",
            "bar_style": "danger",
            "description": "",
            "description_tooltip": null,
            "layout": "IPY_MODEL_4f3da245937446e0a8dc57596769634a",
            "max": 200,
            "min": 0,
            "orientation": "horizontal",
            "style": "IPY_MODEL_ec5f4db1367b437eb12e8351428bb21b",
            "value": 25
          }
        },
        "48e512ed73df4ef6a909a8d2c1575c0b": {
          "model_module": "@jupyter-widgets/controls",
          "model_name": "HTMLModel",
          "model_module_version": "1.5.0",
          "state": {
            "_dom_classes": [],
            "_model_module": "@jupyter-widgets/controls",
            "_model_module_version": "1.5.0",
            "_model_name": "HTMLModel",
            "_view_count": null,
            "_view_module": "@jupyter-widgets/controls",
            "_view_module_version": "1.5.0",
            "_view_name": "HTMLView",
            "description": "",
            "description_tooltip": null,
            "layout": "IPY_MODEL_906966c34fbb4ac7af8b66663d8e20bb",
            "placeholder": "​",
            "style": "IPY_MODEL_144a825a511945b0b4f513b6ebf9c0b9",
            "value": " 25/200 [00:31&lt;03:27,  1.19s/it]"
          }
        },
        "799fe20db3a545f7beaf26248a4e31da": {
          "model_module": "@jupyter-widgets/base",
          "model_name": "LayoutModel",
          "model_module_version": "1.2.0",
          "state": {
            "_model_module": "@jupyter-widgets/base",
            "_model_module_version": "1.2.0",
            "_model_name": "LayoutModel",
            "_view_count": null,
            "_view_module": "@jupyter-widgets/base",
            "_view_module_version": "1.2.0",
            "_view_name": "LayoutView",
            "align_content": null,
            "align_items": null,
            "align_self": null,
            "border": null,
            "bottom": null,
            "display": null,
            "flex": null,
            "flex_flow": null,
            "grid_area": null,
            "grid_auto_columns": null,
            "grid_auto_flow": null,
            "grid_auto_rows": null,
            "grid_column": null,
            "grid_gap": null,
            "grid_row": null,
            "grid_template_areas": null,
            "grid_template_columns": null,
            "grid_template_rows": null,
            "height": null,
            "justify_content": null,
            "justify_items": null,
            "left": null,
            "margin": null,
            "max_height": null,
            "max_width": null,
            "min_height": null,
            "min_width": null,
            "object_fit": null,
            "object_position": null,
            "order": null,
            "overflow": null,
            "overflow_x": null,
            "overflow_y": null,
            "padding": null,
            "right": null,
            "top": null,
            "visibility": null,
            "width": null
          }
        },
        "d2a2c7e7fe1d4892a9800e1abe15a58e": {
          "model_module": "@jupyter-widgets/base",
          "model_name": "LayoutModel",
          "model_module_version": "1.2.0",
          "state": {
            "_model_module": "@jupyter-widgets/base",
            "_model_module_version": "1.2.0",
            "_model_name": "LayoutModel",
            "_view_count": null,
            "_view_module": "@jupyter-widgets/base",
            "_view_module_version": "1.2.0",
            "_view_name": "LayoutView",
            "align_content": null,
            "align_items": null,
            "align_self": null,
            "border": null,
            "bottom": null,
            "display": null,
            "flex": null,
            "flex_flow": null,
            "grid_area": null,
            "grid_auto_columns": null,
            "grid_auto_flow": null,
            "grid_auto_rows": null,
            "grid_column": null,
            "grid_gap": null,
            "grid_row": null,
            "grid_template_areas": null,
            "grid_template_columns": null,
            "grid_template_rows": null,
            "height": null,
            "justify_content": null,
            "justify_items": null,
            "left": null,
            "margin": null,
            "max_height": null,
            "max_width": null,
            "min_height": null,
            "min_width": null,
            "object_fit": null,
            "object_position": null,
            "order": null,
            "overflow": null,
            "overflow_x": null,
            "overflow_y": null,
            "padding": null,
            "right": null,
            "top": null,
            "visibility": null,
            "width": null
          }
        },
        "3b45dedb321f41638e5cda0d5debb1e3": {
          "model_module": "@jupyter-widgets/controls",
          "model_name": "DescriptionStyleModel",
          "model_module_version": "1.5.0",
          "state": {
            "_model_module": "@jupyter-widgets/controls",
            "_model_module_version": "1.5.0",
            "_model_name": "DescriptionStyleModel",
            "_view_count": null,
            "_view_module": "@jupyter-widgets/base",
            "_view_module_version": "1.2.0",
            "_view_name": "StyleView",
            "description_width": ""
          }
        },
        "4f3da245937446e0a8dc57596769634a": {
          "model_module": "@jupyter-widgets/base",
          "model_name": "LayoutModel",
          "model_module_version": "1.2.0",
          "state": {
            "_model_module": "@jupyter-widgets/base",
            "_model_module_version": "1.2.0",
            "_model_name": "LayoutModel",
            "_view_count": null,
            "_view_module": "@jupyter-widgets/base",
            "_view_module_version": "1.2.0",
            "_view_name": "LayoutView",
            "align_content": null,
            "align_items": null,
            "align_self": null,
            "border": null,
            "bottom": null,
            "display": null,
            "flex": null,
            "flex_flow": null,
            "grid_area": null,
            "grid_auto_columns": null,
            "grid_auto_flow": null,
            "grid_auto_rows": null,
            "grid_column": null,
            "grid_gap": null,
            "grid_row": null,
            "grid_template_areas": null,
            "grid_template_columns": null,
            "grid_template_rows": null,
            "height": null,
            "justify_content": null,
            "justify_items": null,
            "left": null,
            "margin": null,
            "max_height": null,
            "max_width": null,
            "min_height": null,
            "min_width": null,
            "object_fit": null,
            "object_position": null,
            "order": null,
            "overflow": null,
            "overflow_x": null,
            "overflow_y": null,
            "padding": null,
            "right": null,
            "top": null,
            "visibility": null,
            "width": null
          }
        },
        "ec5f4db1367b437eb12e8351428bb21b": {
          "model_module": "@jupyter-widgets/controls",
          "model_name": "ProgressStyleModel",
          "model_module_version": "1.5.0",
          "state": {
            "_model_module": "@jupyter-widgets/controls",
            "_model_module_version": "1.5.0",
            "_model_name": "ProgressStyleModel",
            "_view_count": null,
            "_view_module": "@jupyter-widgets/base",
            "_view_module_version": "1.2.0",
            "_view_name": "StyleView",
            "bar_color": null,
            "description_width": ""
          }
        },
        "906966c34fbb4ac7af8b66663d8e20bb": {
          "model_module": "@jupyter-widgets/base",
          "model_name": "LayoutModel",
          "model_module_version": "1.2.0",
          "state": {
            "_model_module": "@jupyter-widgets/base",
            "_model_module_version": "1.2.0",
            "_model_name": "LayoutModel",
            "_view_count": null,
            "_view_module": "@jupyter-widgets/base",
            "_view_module_version": "1.2.0",
            "_view_name": "LayoutView",
            "align_content": null,
            "align_items": null,
            "align_self": null,
            "border": null,
            "bottom": null,
            "display": null,
            "flex": null,
            "flex_flow": null,
            "grid_area": null,
            "grid_auto_columns": null,
            "grid_auto_flow": null,
            "grid_auto_rows": null,
            "grid_column": null,
            "grid_gap": null,
            "grid_row": null,
            "grid_template_areas": null,
            "grid_template_columns": null,
            "grid_template_rows": null,
            "height": null,
            "justify_content": null,
            "justify_items": null,
            "left": null,
            "margin": null,
            "max_height": null,
            "max_width": null,
            "min_height": null,
            "min_width": null,
            "object_fit": null,
            "object_position": null,
            "order": null,
            "overflow": null,
            "overflow_x": null,
            "overflow_y": null,
            "padding": null,
            "right": null,
            "top": null,
            "visibility": null,
            "width": null
          }
        },
        "144a825a511945b0b4f513b6ebf9c0b9": {
          "model_module": "@jupyter-widgets/controls",
          "model_name": "DescriptionStyleModel",
          "model_module_version": "1.5.0",
          "state": {
            "_model_module": "@jupyter-widgets/controls",
            "_model_module_version": "1.5.0",
            "_model_name": "DescriptionStyleModel",
            "_view_count": null,
            "_view_module": "@jupyter-widgets/base",
            "_view_module_version": "1.2.0",
            "_view_name": "StyleView",
            "description_width": ""
          }
        }
      }
    }
  },
  "cells": [
    {
      "cell_type": "markdown",
      "metadata": {
        "id": "view-in-github",
        "colab_type": "text"
      },
      "source": [
        "<a href=\"https://colab.research.google.com/github/Hrishikesh-Harsh/Text_Classification_IR/blob/main/Text_Classifier_IR.ipynb\" target=\"_parent\"><img src=\"https://colab.research.google.com/assets/colab-badge.svg\" alt=\"Open In Colab\"/></a>"
      ]
    },
    {
      "cell_type": "markdown",
      "source": [
        "### Use TF-IDF as prescribed\n",
        "### Treat Abstract, Key and Title differently\n",
        "### Order: $Key > Abstract ≈ Title$\n",
        "### Hence, $W_k > W_a \\approx W_t$\n",
        "### For TF, we can use $TF = 1 + log(n_t*W_t + n_k*W_k + n_a*W_a)$\n",
        "### One More Hyper-parameter to vary is Window size for (Word,Word) pairs\n",
        "### Use $3$ different Window sizes for $Key, Abstract, Title$: $Win_k, Win_a, Win_t$"
      ],
      "metadata": {
        "id": "bvuRuAI6OwL1"
      }
    },
    {
      "cell_type": "code",
      "source": [],
      "metadata": {
        "id": "fXkm6ja9Rone"
      },
      "execution_count": null,
      "outputs": []
    },
    {
      "cell_type": "code",
      "execution_count": null,
      "metadata": {
        "id": "65J4-wpWymj-"
      },
      "outputs": [],
      "source": [
        "!git clone https://github.com/yao8839836/text_gcn.git"
      ]
    },
    {
      "cell_type": "code",
      "source": [
        "cd text_gcn"
      ],
      "metadata": {
        "id": "hd246BWFzLUr"
      },
      "execution_count": null,
      "outputs": []
    },
    {
      "cell_type": "code",
      "source": [
        "#run\n",
        "!pip3 install scipy"
      ],
      "metadata": {
        "colab": {
          "base_uri": "https://localhost:8080/"
        },
        "id": "3sSg_DXcQMJt",
        "outputId": "46cc4c5a-e1a0-42c2-f5f4-8df68c1ccb58"
      },
      "execution_count": null,
      "outputs": [
        {
          "output_type": "stream",
          "name": "stdout",
          "text": [
            "Looking in indexes: https://pypi.org/simple, https://us-python.pkg.dev/colab-wheels/public/simple/\n",
            "Requirement already satisfied: scipy in /usr/local/lib/python3.10/dist-packages (1.10.1)\n",
            "Requirement already satisfied: numpy<1.27.0,>=1.19.5 in /usr/local/lib/python3.10/dist-packages (from scipy) (1.22.4)\n"
          ]
        }
      ]
    },
    {
      "cell_type": "code",
      "source": [
        "!python3 remove_words.py 20ng"
      ],
      "metadata": {
        "id": "pVVvzv__QMG7"
      },
      "execution_count": null,
      "outputs": []
    },
    {
      "cell_type": "code",
      "source": [
        "!python build_graph.py 20ng"
      ],
      "metadata": {
        "id": "9zGBuFSYQMMW"
      },
      "execution_count": null,
      "outputs": []
    },
    {
      "cell_type": "code",
      "source": [
        "#run\n",
        "from google.colab import drive\n",
        "drive.mount('/content/drive')"
      ],
      "metadata": {
        "id": "kMJj6iPgQMPv",
        "outputId": "9c091d26-8552-47a6-8d31-f78115875802",
        "colab": {
          "base_uri": "https://localhost:8080/"
        }
      },
      "execution_count": 3,
      "outputs": [
        {
          "output_type": "stream",
          "name": "stdout",
          "text": [
            "Drive already mounted at /content/drive; to attempt to forcibly remount, call drive.mount(\"/content/drive\", force_remount=True).\n"
          ]
        }
      ]
    },
    {
      "cell_type": "code",
      "source": [
        "#run\n",
        "import csv\n",
        "import math\n",
        "import nltk\n",
        "import re\n",
        "import numpy as np\n",
        "\n",
        "import torch\n",
        "import torch.nn as nn\n",
        "import torch.nn.functional as F\n",
        "from tqdm.notebook import tqdm\n",
        "from torch.nn.parameter import Parameter\n",
        "from torch.nn.modules.module import Module\n",
        "import torch.optim as optim\n",
        "from sklearn.preprocessing import LabelEncoder\n",
        "\n",
        "import scipy.sparse as sp\n",
        "nltk.download('stopwords')\n",
        "nltk.download('punkt')\n",
        "from nltk.corpus import stopwords\n",
        "from nltk.tokenize import word_tokenize "
      ],
      "metadata": {
        "id": "3hihn_ln9prw",
        "outputId": "cd5e11e8-d906-4403-a6b6-3c1dd39f7f2d",
        "colab": {
          "base_uri": "https://localhost:8080/"
        }
      },
      "execution_count": 4,
      "outputs": [
        {
          "output_type": "stream",
          "name": "stderr",
          "text": [
            "[nltk_data] Downloading package stopwords to /root/nltk_data...\n",
            "[nltk_data]   Package stopwords is already up-to-date!\n",
            "[nltk_data] Downloading package punkt to /root/nltk_data...\n",
            "[nltk_data]   Package punkt is already up-to-date!\n"
          ]
        }
      ]
    },
    {
      "cell_type": "code",
      "source": [
        "NUM_LAYERS = 2 \n",
        "HIDDEN_DIM = 440\n",
        "DROP_OUT = 0.55\n",
        "LR = 0.02\n",
        "WEIGHT_DECAY = 0\n",
        "EARLY_STOPPING = 10\n",
        "NUM_EPOCHS = 200\n",
        "\n",
        "device = torch.device(\"cuda\" if torch.cuda.is_available() else \"cpu\")\n",
        "\n",
        "train_ratio = 0.45\n",
        "test_ratio = 0.55\n",
        "N = 206\n",
        "\n",
        "train_N = int(train_ratio*N)\n",
        "test_N = N-train_N\n",
        "\n",
        "wt_k = 9    # Weight to be given to Keywords in tf score\n",
        "wt_t = 3    # Weight to be given to Title in tf score\n",
        "wt_a = 1    # Weight to be given to Abstract in tf score\n",
        "window_size = 20 # Window size for PMI calculation"
      ],
      "metadata": {
        "id": "gA05JNJYPlfU"
      },
      "execution_count": 232,
      "outputs": []
    },
    {
      "cell_type": "code",
      "source": [
        "#run\n",
        "# Loading original .csv file\n",
        "file = open('/content/drive/MyDrive/IR_Project/dataset/PubMed.csv',encoding='Latin1')\n",
        "type(file)\n",
        "csvreader = csv.reader(file)"
      ],
      "metadata": {
        "id": "WFX7tvxa-G_h"
      },
      "execution_count": 6,
      "outputs": []
    },
    {
      "cell_type": "code",
      "source": [
        "#run\n",
        "# Set of stopwords to be removed\n",
        "stop_words = set(stopwords.words('english'))"
      ],
      "metadata": {
        "id": "wAdO0mSn-HFS"
      },
      "execution_count": 7,
      "outputs": []
    },
    {
      "cell_type": "code",
      "source": [
        "#run\n",
        "# Just the first line of the .csv file (Column Names)\n",
        "header = []\n",
        "header = next(csvreader)"
      ],
      "metadata": {
        "id": "xKFHS9krAgxu"
      },
      "execution_count": 8,
      "outputs": []
    },
    {
      "cell_type": "code",
      "source": [
        "#run\n",
        "# vocab_words would be a set of all distinct words found in the dataset/.csv file minus the stopwords\n",
        "vocab_words = set()\n",
        "vocab_words_list = []"
      ],
      "metadata": {
        "id": "tAzHoVJ6JEZq"
      },
      "execution_count": 9,
      "outputs": []
    },
    {
      "cell_type": "code",
      "source": [
        "#run\n",
        "rows = []\n",
        "index = 0\n",
        "title = []\n",
        "keyword = []\n",
        "abstract = []\n",
        "for r in csvreader: \n",
        "  r_sub = []\n",
        "  r[2] = r[2].replace('.',' ')\n",
        "  r[2] = r[2].replace(',',' ')\n",
        "  r[2] = r[2].replace(';',' ')\n",
        "  r[2] = r[2].replace('|',' ')\n",
        "  r[2] = r[2].replace('<',' ')\n",
        "  r[2] = r[2].replace('>',' ')\n",
        "  r[2] = r[2].replace(':',' ')\n",
        "  r[2] = r[2].replace('=',' ')\n",
        "  r[2] = r[2].replace('(',' ')\n",
        "  r[2] = r[2].replace(')',' ')\n",
        "  r[2] = r[2].replace('[',' ')\n",
        "  r[2] = r[2].replace(']',' ')\n",
        "  r[2] = r[2].replace('?',' ')\n",
        "\n",
        "\n",
        "  r[3] = r[3].replace('.',' ')\n",
        "  r[3] = r[3].replace(',',' ')\n",
        "  r[3] = r[3].replace(';',' ')\n",
        "  r[3] = r[3].replace('|',' ')\n",
        "  r[3] = r[3].replace('<',' ')\n",
        "  r[3] = r[3].replace('>',' ')\n",
        "  r[3] = r[3].replace(':',' ')\n",
        "  r[3] = r[3].replace('=',' ')\n",
        "  r[3] = r[3].replace('(',' ')\n",
        "  r[3] = r[3].replace(')',' ')\n",
        "  r[3] = r[3].replace('[',' ')\n",
        "  r[3] = r[3].replace(']',' ')\n",
        "  r[3] = r[3].replace('?',' ')\n",
        "\n",
        "  r[4] = r[4].replace('.',' ')\n",
        "  r[4] = r[4].replace(',',' ')\n",
        "  r[4] = r[4].replace(';',' ')\n",
        "  r[4] = r[4].replace('|',' ')\n",
        "  r[4] = r[4].replace('<',' ')\n",
        "  r[4] = r[4].replace('>',' ')\n",
        "  r[4] = r[4].replace(':',' ')\n",
        "  r[4] = r[4].replace('=',' ')\n",
        "  r[4] = r[4].replace('(',' ')\n",
        "  r[4] = r[4].replace(')',' ')\n",
        "  r[4] = r[4].replace('[',' ')\n",
        "  r[4] = r[4].replace(']',' ')\n",
        "  r[4] = r[4].replace('?',' ')\n",
        "\n",
        "  words_title = word_tokenize(r[2])     # Tokenize the Title of that doc (row)\n",
        "  words_keyword = word_tokenize(r[3])   # Tokenize the Keywords of that doc (row)\n",
        "  words_abstract = word_tokenize(r[4])  # Tokenize the Abstract of that doc (row)\n",
        "\n",
        "  title.append([])\n",
        "  keyword.append([])\n",
        "  abstract.append([])\n",
        "\n",
        "  w_t = \"\"\n",
        "  w_k = \"\"\n",
        "  w_a = \"\"\n",
        "\n",
        "  ''' \n",
        "      - Adding all non-stop-words to the vocabulary\n",
        "      - Also maintaining doc-wise collection of Keywords, Title and Abstract words \n",
        "  '''\n",
        "\n",
        "  for w in words_title:\n",
        "    if w not in stop_words and w!=\"'s\":\n",
        "        w_t = w_t + w + \" \"\n",
        "        vocab_words.add(w)\n",
        "        # vocab_words_list.append(w)\n",
        "        title[index].append(w)\n",
        "  \n",
        "  for w in words_keyword:\n",
        "    if w not in stop_words and w!=\"'s\":\n",
        "        w_k = w_k + w + \" \"\n",
        "        vocab_words.add(w)\n",
        "        # vocab_words_list.append(w)\n",
        "        keyword[index].append(w)\n",
        "\n",
        "  for w in words_abstract:\n",
        "    if w not in stop_words and w!=\"'s\":\n",
        "        w_a = w_a + w + \" \"\n",
        "        vocab_words.add(w)\n",
        "        # vocab_words_list.append(w)\n",
        "        abstract[index].append(w)\n",
        "  \n",
        "  index=index+1\n",
        "\n",
        "  '''\n",
        "    - Creating 'rows' to write back to Clean File\n",
        "  '''\n",
        "  for i in range(0,len(r)):\n",
        "    if(i==2):\n",
        "      r_sub.append(w_t)\n",
        "    elif(i==3):\n",
        "      r_sub.append(w_k)\n",
        "    elif(i==4):\n",
        "      r_sub.append(w_a) \n",
        "    else:\n",
        "      r_sub.append(r[i])\n",
        "    \n",
        "  rows.append(r_sub)\n"
      ],
      "metadata": {
        "id": "sto5tlbyAwu_"
      },
      "execution_count": 10,
      "outputs": []
    },
    {
      "cell_type": "code",
      "source": [
        "#run\n",
        "train_docs = []\n",
        "test_docs = []\n",
        "\n",
        "train_docs = rows[:train_N]\n",
        "test_docs = rows[train_N:train_N+test_N]\n"
      ],
      "metadata": {
        "id": "DwPWp9DppA57"
      },
      "execution_count": 233,
      "outputs": []
    },
    {
      "cell_type": "code",
      "source": [
        "print(train_N)\n",
        "print(train_N+test_N)"
      ],
      "metadata": {
        "colab": {
          "base_uri": "https://localhost:8080/"
        },
        "id": "QveskD_DceyQ",
        "outputId": "e3737687-c3cd-4e93-81f9-ffaa4a1c1388"
      },
      "execution_count": 234,
      "outputs": [
        {
          "output_type": "stream",
          "name": "stdout",
          "text": [
            "92\n",
            "206\n"
          ]
        }
      ]
    },
    {
      "cell_type": "code",
      "source": [
        "original_labels_train=[]\n",
        "for i,r in enumerate(train_docs):\n",
        "  original_labels_train.append(int(r[5]))"
      ],
      "metadata": {
        "id": "AaxC4asWn6-H"
      },
      "execution_count": 235,
      "outputs": []
    },
    {
      "cell_type": "code",
      "source": [
        "original_labels_test=[]\n",
        "for i,r in enumerate(test_docs):\n",
        "  original_labels_test.append(int(r[5]))"
      ],
      "metadata": {
        "id": "SjojRKYVwKyk"
      },
      "execution_count": 236,
      "outputs": []
    },
    {
      "cell_type": "code",
      "source": [
        "print(len(test_docs))"
      ],
      "metadata": {
        "colab": {
          "base_uri": "https://localhost:8080/"
        },
        "id": "JhwOvndd923U",
        "outputId": "a1973f07-194a-42b9-acec-3347bc5d6780"
      },
      "execution_count": 237,
      "outputs": [
        {
          "output_type": "stream",
          "name": "stdout",
          "text": [
            "114\n"
          ]
        }
      ]
    },
    {
      "cell_type": "code",
      "source": [
        "#run\n",
        "vocab_words_list=[]\n",
        "for wd in vocab_words:\n",
        "  vocab_words_list.append(wd)"
      ],
      "metadata": {
        "id": "V6yddrnwBX3b"
      },
      "execution_count": 16,
      "outputs": []
    },
    {
      "cell_type": "code",
      "source": [
        "#run\n",
        "# Globals\n",
        "docs_size = len(rows)\n",
        "vocab_size = len(vocab_words)"
      ],
      "metadata": {
        "id": "uTf_qtYyJ0kj"
      },
      "execution_count": 17,
      "outputs": []
    },
    {
      "cell_type": "code",
      "source": [
        "'''\n",
        "  To write back to Clean File\n",
        "'''\n",
        "file = open('/content/drive/MyDrive/IR_Project/dataset/PubMed_Clean.csv', 'w', newline='')\n",
        "writer = csv.writer(file)\n",
        "writer.writerow(header)\n",
        "\n",
        "for r in rows:\n",
        "  writer.writerow(r)\n"
      ],
      "metadata": {
        "id": "W_ymGTwQDA4f"
      },
      "execution_count": null,
      "outputs": []
    },
    {
      "cell_type": "code",
      "source": [
        "#run\n",
        "'''\n",
        "  Create a dict to store {word: (ID, idf)} mapping\n",
        "'''\n",
        "dict_vocab = {}\n",
        "\n",
        "for i,w in enumerate(vocab_words):\n",
        "  dict_vocab[w]=(i,0)"
      ],
      "metadata": {
        "id": "xeAiaPkDIOBi"
      },
      "execution_count": 18,
      "outputs": []
    },
    {
      "cell_type": "code",
      "source": [
        "for i,w in enumerate(vocab_words):\n",
        "  if(i>5):\n",
        "    break\n",
        "  print(w)\n",
        "print(vocab_size)"
      ],
      "metadata": {
        "id": "3vNg82HsthO6",
        "outputId": "92caf8f7-ede6-4f30-807a-6e7a76cd317b",
        "colab": {
          "base_uri": "https://localhost:8080/"
        }
      },
      "execution_count": 19,
      "outputs": [
        {
          "output_type": "stream",
          "name": "stdout",
          "text": [
            "RBD-SD1\n",
            "157\n",
            "CEC2014\n",
            "CiteSpace-based\n",
            "arbitrary\n",
            "Intelligent\n",
            "59972\n"
          ]
        }
      ]
    },
    {
      "cell_type": "code",
      "source": [
        "file = open('/content/drive/MyDrive/IR_Project/dataset/idf.csv', 'w', newline='') \n",
        "writer = csv.writer(file) \n",
        "writer.writerow([\"word\",\"idf\"])\n",
        "for wd in dict_vocab: \n",
        "  count = 0\n",
        "  for i,doc in enumerate(rows):\n",
        "    flag = 0 \n",
        "    for w_t in title[i]:\n",
        "      if(wd==w_t):\n",
        "        count=count+1\n",
        "        flag = 1\n",
        "        break \n",
        "\n",
        "    if(flag==1):\n",
        "      continue \n",
        "\n",
        "    for w_k in keyword[i]:\n",
        "      if(wd==w_k):\n",
        "        count=count+1\n",
        "        flag = 1\n",
        "        break\n",
        "\n",
        "    if(flag==1):\n",
        "      continue \n",
        "\n",
        "    for w_a in abstract[i]:\n",
        "      if(wd==w_a):\n",
        "        count=count+1\n",
        "        flag = 1\n",
        "        break\n",
        "\n",
        "    if(flag==1):\n",
        "      continue\n",
        "\n",
        "  (id,idf) = dict_vocab[wd]\n",
        "  if(count==0):\n",
        "    idf = 0\n",
        "  else:\n",
        "    idf = math.log((docs_size/count),10) \n",
        "  dict_vocab[wd] = (id,idf)\n",
        "  templine=[]\n",
        "  templine.append(wd)\n",
        "  templine.append(idf)\n",
        "  writer.writerow(templine)\n",
        "  print(id,templine)\n",
        "  count = 0\n",
        "writer.writerow(\"fine\")\n",
        "file.close()"
      ],
      "metadata": {
        "id": "KozY8dLB8Lfp"
      },
      "execution_count": null,
      "outputs": []
    },
    {
      "cell_type": "code",
      "source": [
        "#run\n",
        "file = open('/content/drive/MyDrive/IR_Project/dataset/idf.csv',encoding='Latin1')\n",
        "type(file)\n",
        "csvreader = csv.reader(file)\n",
        "\n",
        "header = []\n",
        "header = next(csvreader)"
      ],
      "metadata": {
        "id": "CohPXaSOrZ78"
      },
      "execution_count": 20,
      "outputs": []
    },
    {
      "cell_type": "code",
      "source": [
        "#run\n",
        "for val in dict_vocab: \n",
        "  r = next(csvreader)\n",
        "  if(r[0] not in dict_vocab):\n",
        "    continue\n",
        "  if(r[1]=='i'):\n",
        "    break\n",
        "  (id,idf) = dict_vocab[r[0]]\n",
        "  idf = float(r[1])\n",
        "  dict_vocab[r[0]] = (id,idf)"
      ],
      "metadata": {
        "id": "N61pPwI5r4hS"
      },
      "execution_count": 21,
      "outputs": []
    },
    {
      "cell_type": "code",
      "source": [
        "for i,ele in enumerate(dict_vocab):\n",
        "  if(i==5):\n",
        "    break;\n",
        "  \n",
        "  print(ele,\",\",dict_vocab[ele])"
      ],
      "metadata": {
        "id": "pzCpsOziIZ4Q",
        "outputId": "05774cbb-9d5c-4f30-cdd0-9971bc3f0702",
        "colab": {
          "base_uri": "https://localhost:8080/"
        }
      },
      "execution_count": 22,
      "outputs": [
        {
          "output_type": "stream",
          "name": "stdout",
          "text": [
            "RBD-SD1 , (0, 3.9461082304369057)\n",
            "157 , (1, 2.9461082304369057)\n",
            "CEC2014 , (2, 3.6450782347729245)\n",
            "CiteSpace-based , (3, 3.9461082304369057)\n",
            "arbitrary , (4, 3.468986975717243)\n"
          ]
        }
      ]
    },
    {
      "cell_type": "code",
      "source": [
        "#run\n",
        "Adj_Matrix = np.zeros((docs_size+vocab_size,docs_size+vocab_size))\n",
        "weights = []\n",
        "row_list = []\n",
        "col_list = []"
      ],
      "metadata": {
        "id": "r9UXxGeAONi7"
      },
      "execution_count": 135,
      "outputs": []
    },
    {
      "cell_type": "code",
      "source": [
        "print(Adj_Matrix.shape)"
      ],
      "metadata": {
        "colab": {
          "base_uri": "https://localhost:8080/"
        },
        "id": "UseMlUhyGzKJ",
        "outputId": "ae8a7f8f-27d3-4f8c-b057-9645866d3950"
      },
      "execution_count": 99,
      "outputs": [
        {
          "output_type": "stream",
          "name": "stdout",
          "text": [
            "(68805, 68805)\n"
          ]
        }
      ]
    },
    {
      "cell_type": "code",
      "source": [
        "#run\n",
        "for i,doc in enumerate(rows):\n",
        "  for w_k in keyword[i]:\n",
        "    Adj_Matrix[i,dict_vocab[w_k][0]+docs_size] += wt_k\n",
        "    Adj_Matrix[dict_vocab[w_k][0]+docs_size,i] += wt_k\n",
        "\n",
        "  for w_t in title[i]:\n",
        "    Adj_Matrix[i,dict_vocab[w_t][0]+docs_size] += wt_t\n",
        "    Adj_Matrix[dict_vocab[w_t][0]+docs_size,i] += wt_t\n",
        "\n",
        "  for w_a in abstract[i]:\n",
        "    Adj_Matrix[i,dict_vocab[w_a][0]+docs_size] += wt_a\n",
        "    Adj_Matrix[dict_vocab[w_a][0]+docs_size,i] += wt_a\n",
        "  # # wt = 0\n",
        "  # for w_k in keyword[i]:\n",
        "  #   # wt += wt_k\n",
        "  #   # weights.append(wt*dict_vocab[w_k][1])\n",
        "  #   row_list.append(i)\n",
        "  #   col_list.append(dict_vocab[w_k][0]+docs_size)\n",
        "  #   x=pow(10,Adj_Matrix(i,dict_vocab[w_k][0]+docs_size)-1)\n",
        "  #   Adj_Matrix[i][dict_vocab[w_k][0]+docs_size]=x+wt_k\n",
        "  #   Adj_Matrix[i][dict_vocab[w_k][0]+docs_size]=1+math.log(Adj_Matrix[i][dict_vocab[w_k][0]+docs_size])\n",
        "  # for w_t in title[i]:\n",
        "  #   # wt += wt_t\n",
        "  #   # weights.append(wt*dict_vocab[w_t][1])\n",
        "  #   row_list.append(i)\n",
        "  #   col_list.append(dict_vocab[w_t][0]+docs_size)\n",
        "  # for w_a in abstract[i]:\n",
        "  #   # wt += wt_a\n",
        "  #   # weights.append(wt*dict_vocab[w_a][1])\n",
        "  #   row_list.append(i)\n",
        "  #   col_list.append(dict_vocab[w_a][0]+docs_size)\n"
      ],
      "metadata": {
        "id": "MvP0Cz_2OSHq"
      },
      "execution_count": 136,
      "outputs": []
    },
    {
      "cell_type": "code",
      "source": [
        "# run\n",
        "for i in range(0,docs_size):\n",
        "  for j in range(docs_size,Adj_Matrix.shape[0]):\n",
        "    if(Adj_Matrix[i,j]!=0):\n",
        "      wd = vocab_words_list[j-docs_size]\n",
        "      idf = dict_vocab[wd][1]\n",
        "      Adj_Matrix[i,j] = (1+math.log(Adj_Matrix[i,j],10))*idf\n",
        "      Adj_Matrix[j,i]=Adj_Matrix[i,j]\n"
      ],
      "metadata": {
        "id": "akrynkoDu-Ng"
      },
      "execution_count": 137,
      "outputs": []
    },
    {
      "cell_type": "code",
      "source": [
        "# word co-occurence with context windows\n",
        "windows = []\n",
        "\n",
        "for row in rows:\n",
        "    content=row[2]+\" \"+row[3]+\" \"+row[4]\n",
        "    words = content.split()\n",
        "    length = len(words)\n",
        "    if length <= window_size: \n",
        "        windows.append(words)\n",
        "    else:\n",
        "        # print(length, length - window_size + 1)\n",
        "        for j in range(length - window_size + 1):\n",
        "            window = words[j: j + window_size]\n",
        "            windows.append(window)\n",
        "            # print(window)\n",
        "\n",
        "print(len(windows))\n",
        "\n",
        "#calculating p(i) , word_window_freq has the number of windows a particular word appears in across all windows.\n",
        "word_window_freq = {}\n",
        "k = 0\n",
        "for window in windows:\n",
        "    appeared = set()\n",
        "    for i in range(len(window)):\n",
        "        if window[i] in appeared:\n",
        "            continue\n",
        "        if window[i] in word_window_freq:\n",
        "            word_window_freq[window[i]] += 1\n",
        "        else:\n",
        "            word_window_freq[window[i]] = 1\n",
        "        appeared.add(window[i])\n",
        "    # print(\"k=\",k)  \n",
        "    # k+=1\n",
        "print(len(word_window_freq))\n",
        "\n",
        "word_pair_count = {}\n",
        "k1=0\n",
        "for window in windows:\n",
        "    for i in range(1, len(window)):\n",
        "        for j in range(0, i):\n",
        "            word_i = window[i] #ith word in window\n",
        "            word_i_id = dict_vocab[word_i][0]\n",
        "            word_j = window[j] #jth word in range 0-i in the same window\n",
        "            word_j_id = dict_vocab[word_j][0]\n",
        "            if word_i_id == word_j_id:\n",
        "                continue\n",
        "            word_pair_str = str(word_i_id) + ',' + str(word_j_id) #concat id and use it to count a pair or p(i,j)\n",
        "            if word_pair_str in word_pair_count: #word_pair_count stores number of pairs along with number of times they appear.\n",
        "                word_pair_count[word_pair_str] += 1\n",
        "            else:\n",
        "                word_pair_count[word_pair_str] = 1\n",
        "            # two orders\n",
        "            word_pair_str = str(word_j_id) + ',' + str(word_i_id)\n",
        "            if word_pair_str in word_pair_count:\n",
        "                word_pair_count[word_pair_str] += 1\n",
        "            else:\n",
        "                word_pair_count[word_pair_str] = 1\n",
        "    # k1+=1\n",
        "    # print(\"k1=\",k1)    \n",
        "print(len(word_pair_count))\n",
        "\n",
        "# row = []\n",
        "# col = []\n",
        "# weight = []\n",
        "\n",
        "# pmi as weights\n",
        "\n"
      ],
      "metadata": {
        "colab": {
          "base_uri": "https://localhost:8080/"
        },
        "id": "Of6lRt0325On",
        "outputId": "631b1863-d620-43dc-eb52-75c559fb33c2"
      },
      "execution_count": null,
      "outputs": [
        {
          "output_type": "stream",
          "name": "stdout",
          "text": [
            "829112\n",
            "59464\n",
            "13380994\n"
          ]
        }
      ]
    },
    {
      "cell_type": "code",
      "source": [
        "num_window = len(windows)\n",
        "\n",
        "for key in word_pair_count:\n",
        "    temp = key.split(',')\n",
        "    i = int(temp[0])\n",
        "    j = int(temp[1])\n",
        "    # print(\"pair(i,j)=\",i,j)\n",
        "    count = word_pair_count[key] #p(i,j)\n",
        "    word_freq_i = word_window_freq[vocab_words_list[i]] #p(i)\n",
        "    word_freq_j = word_window_freq[vocab_words_list[j]] #p(j)\n",
        "    pmi = math.log((1.0 * count / num_window) /(1.0 * word_freq_i * word_freq_j/(num_window * num_window)),10) #adj(i,j)\n",
        "    if pmi <= 0:\n",
        "        continue\n",
        "    # Adj_Matrix[docs_size+i][docs_size+j]=pmi\n",
        "    weights.append(pmi)\n",
        "    row_list.append(docs_size+i)\n",
        "    col_list.append(docs_size+j)\n"
      ],
      "metadata": {
        "id": "7x8TSh9qd3cw"
      },
      "execution_count": null,
      "outputs": []
    },
    {
      "cell_type": "code",
      "source": [
        "print(len(weights))\n",
        "print(len(row_list))"
      ],
      "metadata": {
        "colab": {
          "base_uri": "https://localhost:8080/"
        },
        "id": "1TvYbxBtzHBy",
        "outputId": "cd7800a3-a8b6-41c9-b92e-29ea23197861"
      },
      "execution_count": null,
      "outputs": [
        {
          "output_type": "stream",
          "name": "stdout",
          "text": [
            "0\n",
            "0\n"
          ]
        }
      ]
    },
    {
      "cell_type": "code",
      "source": [
        "file = open('/content/drive/MyDrive/IR_Project/dataset/pmi.csv', 'w', newline='') \n",
        "writer = csv.writer(file) \n",
        "writer.writerow([\"weight\",\"row\",\"col\"])\n",
        "for i,weight_pmi in enumerate(weights):\n",
        "  line=[]\n",
        "  line.append(weights[i])\n",
        "  line.append(row_list[i])\n",
        "  line.append(col_list[i])\n",
        "  writer.writerow(line)\n",
        "file.close()"
      ],
      "metadata": {
        "id": "bXRekUt-mD6-"
      },
      "execution_count": null,
      "outputs": []
    },
    {
      "cell_type": "code",
      "source": [
        "weights=[]\n",
        "row_list=[]\n",
        "col_list=[]\n",
        "print(len(weights))"
      ],
      "metadata": {
        "id": "lRMD46IgDibD",
        "colab": {
          "base_uri": "https://localhost:8080/"
        },
        "outputId": "81f6cb06-e723-4c53-a3c2-205dae467e40"
      },
      "execution_count": null,
      "outputs": [
        {
          "output_type": "stream",
          "name": "stdout",
          "text": [
            "0\n"
          ]
        }
      ]
    },
    {
      "cell_type": "code",
      "source": [
        "#run\n",
        "file = open('/content/drive/MyDrive/IR_Project/dataset/pmi.csv',encoding='Latin1')\n",
        "type(file)\n",
        "csvreader = csv.reader(file)\n",
        "\n",
        "header = []\n",
        "header = next(csvreader)\n"
      ],
      "metadata": {
        "id": "9PZzkXhUxpSp"
      },
      "execution_count": 138,
      "outputs": []
    },
    {
      "cell_type": "code",
      "source": [
        "#run\n",
        "weights=[]\n",
        "row_list=[]\n",
        "col_list=[]\n",
        "count_skip=0\n",
        "for r in csvreader:\n",
        "    weights.append(float(r[0]))\n",
        "    row_list.append(int(r[1]))\n",
        "    col_list.append(int(r[2]))\n",
        "file.close()\n",
        "print(weights[:5])\n",
        "print(row_list[:5])\n",
        "print(col_list[:5])\n",
        "print(len(weights))"
      ],
      "metadata": {
        "id": "SG7FXo3IJEL6",
        "outputId": "a94651b4-d81a-44fb-ecc1-b73abd0fb72f",
        "colab": {
          "base_uri": "https://localhost:8080/"
        }
      },
      "execution_count": 139,
      "outputs": [
        {
          "output_type": "stream",
          "name": "stdout",
          "text": [
            "[0.28479792351521793, 0.28479792351521793, 0.2759803469745833, 0.2759803469745833, 0.3413138889916103]\n",
            "[19693, 40771, 19693, 44805, 17238]\n",
            "[40771, 19693, 44805, 19693, 40771]\n",
            "11410620\n"
          ]
        }
      ]
    },
    {
      "cell_type": "code",
      "source": [
        "print(len(weights))\n",
        "print(Adj_Matrix.shape)"
      ],
      "metadata": {
        "id": "9E28X3A2Cc_c",
        "outputId": "863db472-9b71-4fd2-f6d0-47343f956b3d",
        "colab": {
          "base_uri": "https://localhost:8080/"
        }
      },
      "execution_count": 140,
      "outputs": [
        {
          "output_type": "stream",
          "name": "stdout",
          "text": [
            "11410620\n",
            "(68805, 68805)\n"
          ]
        }
      ]
    },
    {
      "cell_type": "code",
      "source": [
        "#run\n",
        "from scipy.sparse import csr_matrix\n",
        "Adj_Mat=csr_matrix(Adj_Matrix)"
      ],
      "metadata": {
        "id": "KkgCixAQrhs2"
      },
      "execution_count": 141,
      "outputs": []
    },
    {
      "cell_type": "code",
      "source": [
        "print(Adj_Mat.shape)"
      ],
      "metadata": {
        "id": "sppwyPooIN9Y",
        "outputId": "92ac18e2-21cf-4943-d1fd-de921ec580ba",
        "colab": {
          "base_uri": "https://localhost:8080/"
        }
      },
      "execution_count": 142,
      "outputs": [
        {
          "output_type": "stream",
          "name": "stdout",
          "text": [
            "(68805, 68805)\n"
          ]
        }
      ]
    },
    {
      "cell_type": "code",
      "source": [
        "# AdjMat1=Adj_Mat\n",
        "print(docs_size)\n",
        "print(len(vocab_words_list))"
      ],
      "metadata": {
        "id": "lgTfAY8MIbKH",
        "outputId": "5a3bda48-7b1d-48c8-c1da-3eed704fe5ec",
        "colab": {
          "base_uri": "https://localhost:8080/"
        }
      },
      "execution_count": 143,
      "outputs": [
        {
          "output_type": "stream",
          "name": "stdout",
          "text": [
            "8833\n",
            "59972\n"
          ]
        }
      ]
    },
    {
      "cell_type": "code",
      "source": [
        "#run\n",
        "Adj_Matrix = sp.csr_matrix((weights, (row_list, col_list)), shape=(docs_size+len(vocab_words_list), docs_size+len(vocab_words_list)))\n",
        "\n",
        "# build symmetric adjacency matrix\n",
        "# Adj_Matrix = Adj_Matrix + Adj_Matrix.T.multiply(Adj_Matrix.T > Adj_Matrix) - Adj_Matrix.multiply(Adj_Matrix.T > Adj_Matrix)"
      ],
      "metadata": {
        "id": "pBawb0WrQYwT"
      },
      "execution_count": 144,
      "outputs": []
    },
    {
      "cell_type": "code",
      "source": [
        "print(Adj_Mat.shape)\n",
        "print(Adj_Matrix.shape)"
      ],
      "metadata": {
        "colab": {
          "base_uri": "https://localhost:8080/"
        },
        "id": "JY7RHzBSGhNZ",
        "outputId": "6211fd4c-a984-45c0-f363-0d7c4795ef62"
      },
      "execution_count": 145,
      "outputs": [
        {
          "output_type": "stream",
          "name": "stdout",
          "text": [
            "(68805, 68805)\n",
            "(68805, 68805)\n"
          ]
        }
      ]
    },
    {
      "cell_type": "code",
      "source": [
        "#run\n",
        "Adj_Matrix=Adj_Mat+Adj_Matrix"
      ],
      "metadata": {
        "id": "8iF4mNfOv62N"
      },
      "execution_count": 146,
      "outputs": []
    },
    {
      "cell_type": "code",
      "source": [
        "#run\n",
        "Adj_Matrix=csr_matrix(Adj_Matrix)"
      ],
      "metadata": {
        "id": "G__jRVAVwB-0"
      },
      "execution_count": 147,
      "outputs": []
    },
    {
      "cell_type": "code",
      "source": [
        "if torch.cuda.is_available:\n",
        "  print('GPU available')\n",
        "else:\n",
        "  print('Please set GPU via Edit -> Notebook Settings.')\n"
      ],
      "metadata": {
        "colab": {
          "base_uri": "https://localhost:8080/"
        },
        "id": "xzLvTyd2Cugq",
        "outputId": "4a6a4514-ee63-4b69-a65b-72cc3a1b618b"
      },
      "execution_count": 148,
      "outputs": [
        {
          "output_type": "stream",
          "name": "stdout",
          "text": [
            "GPU available\n"
          ]
        }
      ]
    },
    {
      "cell_type": "code",
      "source": [
        "unique_labels=np.unique(original_labels_train)\n",
        "\n",
        "num_class = len(unique_labels)\n",
        "lEnc = LabelEncoder()\n",
        "lEnc.fit(unique_labels)\n",
        "\n",
        "print(unique_labels)\n",
        "print(lEnc.transform(unique_labels))\n",
        "\n",
        "train_labels = lEnc.transform(original_labels_train)\n",
        "test_labels = lEnc.transform(original_labels_test)\n",
        "\n",
        "labels = train_labels.tolist()+test_labels.tolist()\n",
        "labels = torch.LongTensor(labels).to(device)"
      ],
      "metadata": {
        "id": "1YvJSvXJwhfr",
        "outputId": "553bf3e4-597d-442a-f581-6a0fefc94b50",
        "colab": {
          "base_uri": "https://localhost:8080/"
        }
      },
      "execution_count": 238,
      "outputs": [
        {
          "output_type": "stream",
          "name": "stdout",
          "text": [
            "[0 1]\n",
            "[0 1]\n"
          ]
        }
      ]
    },
    {
      "cell_type": "code",
      "source": [
        "print(len(test_labels))\n",
        "print(test_labels.shape)"
      ],
      "metadata": {
        "colab": {
          "base_uri": "https://localhost:8080/"
        },
        "id": "f805Ay38wqo6",
        "outputId": "b298db61-8b23-4207-b4c6-3ca61c4f0e82"
      },
      "execution_count": 239,
      "outputs": [
        {
          "output_type": "stream",
          "name": "stdout",
          "text": [
            "114\n",
            "(114,)\n"
          ]
        }
      ]
    },
    {
      "cell_type": "code",
      "source": [
        "def normalise(Adj_Matrix):\n",
        "    \"\"\"Symmetrically normalize adjacency matrix.\"\"\"\n",
        "    Adj_Matrix = sp.coo_matrix(Adj_Matrix)\n",
        "    rowsum = np.array(Adj_Matrix.sum(1))\n",
        "    D = np.power(rowsum, -0.5).flatten()\n",
        "    D[np.isinf(D)] = 0.\n",
        "    D_Factor = sp.diags(D)\n",
        "    return Adj_Matrix.dot(D_Factor).transpose().dot(D_Factor).tocoo(), D\n",
        "    \n",
        "Adj_Matrix, D = normalise(Adj_Matrix + sp.eye(Adj_Matrix.shape[0]))\n",
        "\n",
        "\n",
        "def spToTensor(mx):\n",
        "    \"\"\"Convert a scipy sparse matrix to a torch sparse tensor.\"\"\"\n",
        "    mx = mx.tocoo().astype(np.float32)\n",
        "    indices = torch.from_numpy(\n",
        "        np.vstack((mx.row, mx.col)).astype(np.int64))\n",
        "    values = torch.from_numpy(mx.data)\n",
        "    shape = torch.Size(mx.shape)\n",
        "    return torch.sparse.FloatTensor(indices, values, shape).to(device)\n",
        "\n",
        "Adj_Matrix = spToTensor(Adj_Matrix)"
      ],
      "metadata": {
        "id": "nmmG4LyK-nZu",
        "outputId": "52ddaf18-911f-4e0c-9a3f-9bcb4fd74abc",
        "colab": {
          "base_uri": "https://localhost:8080/",
          "height": 237
        }
      },
      "execution_count": 216,
      "outputs": [
        {
          "output_type": "error",
          "ename": "TypeError",
          "evalue": "ignored",
          "traceback": [
            "\u001b[0;31m---------------------------------------------------------------------------\u001b[0m",
            "\u001b[0;31mTypeError\u001b[0m                                 Traceback (most recent call last)",
            "\u001b[0;32m<ipython-input-216-514a42cfde34>\u001b[0m in \u001b[0;36m<cell line: 10>\u001b[0;34m()\u001b[0m\n\u001b[1;32m      8\u001b[0m     \u001b[0;32mreturn\u001b[0m \u001b[0mAdj_Matrix\u001b[0m\u001b[0;34m.\u001b[0m\u001b[0mdot\u001b[0m\u001b[0;34m(\u001b[0m\u001b[0mD_Factor\u001b[0m\u001b[0;34m)\u001b[0m\u001b[0;34m.\u001b[0m\u001b[0mtranspose\u001b[0m\u001b[0;34m(\u001b[0m\u001b[0;34m)\u001b[0m\u001b[0;34m.\u001b[0m\u001b[0mdot\u001b[0m\u001b[0;34m(\u001b[0m\u001b[0mD_Factor\u001b[0m\u001b[0;34m)\u001b[0m\u001b[0;34m.\u001b[0m\u001b[0mtocoo\u001b[0m\u001b[0;34m(\u001b[0m\u001b[0;34m)\u001b[0m\u001b[0;34m,\u001b[0m \u001b[0mD\u001b[0m\u001b[0;34m\u001b[0m\u001b[0;34m\u001b[0m\u001b[0m\n\u001b[1;32m      9\u001b[0m \u001b[0;34m\u001b[0m\u001b[0m\n\u001b[0;32m---> 10\u001b[0;31m \u001b[0mAdj_Matrix\u001b[0m\u001b[0;34m,\u001b[0m \u001b[0mD\u001b[0m \u001b[0;34m=\u001b[0m \u001b[0mnormalise\u001b[0m\u001b[0;34m(\u001b[0m\u001b[0mAdj_Matrix\u001b[0m \u001b[0;34m+\u001b[0m \u001b[0msp\u001b[0m\u001b[0;34m.\u001b[0m\u001b[0meye\u001b[0m\u001b[0;34m(\u001b[0m\u001b[0mAdj_Matrix\u001b[0m\u001b[0;34m.\u001b[0m\u001b[0mshape\u001b[0m\u001b[0;34m[\u001b[0m\u001b[0;36m0\u001b[0m\u001b[0;34m]\u001b[0m\u001b[0;34m)\u001b[0m\u001b[0;34m)\u001b[0m\u001b[0;34m\u001b[0m\u001b[0;34m\u001b[0m\u001b[0m\n\u001b[0m\u001b[1;32m     11\u001b[0m \u001b[0;34m\u001b[0m\u001b[0m\n\u001b[1;32m     12\u001b[0m \u001b[0;34m\u001b[0m\u001b[0m\n",
            "\u001b[0;31mTypeError\u001b[0m: unsupported operand type(s) for +: 'Tensor' and 'dia_matrix'"
          ]
        }
      ]
    },
    {
      "cell_type": "code",
      "source": [
        "torch.save(Adj_Matrix, '/content/drive/MyDrive/IR_Project/dataset/Adj.pt')"
      ],
      "metadata": {
        "id": "SaVNE7W3DJu1"
      },
      "execution_count": 152,
      "outputs": []
    },
    {
      "cell_type": "code",
      "source": [
        "#run\n",
        "weights=[]\n",
        "row_list=[]\n",
        "col_list=[]\n",
        "Adj_Mat=[]\n",
        "windows=[]\n",
        "word_window_freq = {}\n",
        "word_pair_count = {}"
      ],
      "metadata": {
        "id": "znYK8MJ56aX5"
      },
      "execution_count": 153,
      "outputs": []
    },
    {
      "cell_type": "code",
      "source": [
        "xt = torch.FloatTensor(3,2)"
      ],
      "metadata": {
        "id": "YCayTbC07IKO"
      },
      "execution_count": null,
      "outputs": []
    },
    {
      "cell_type": "code",
      "source": [
        "print(xt)"
      ],
      "metadata": {
        "id": "6kKFsSrbNifo",
        "outputId": "619251d7-446b-4deb-961a-fd5b95b78e08",
        "colab": {
          "base_uri": "https://localhost:8080/"
        }
      },
      "execution_count": null,
      "outputs": [
        {
          "output_type": "stream",
          "name": "stdout",
          "text": [
            "tensor([[0.0000e+00, 0.0000e+00],\n",
            "        [1.8788e+31, 1.7220e+22],\n",
            "        [2.1715e-18, 2.6309e+20]])\n"
          ]
        }
      ]
    },
    {
      "cell_type": "code",
      "source": [
        "class GraphConvolution(Module):\n",
        "    \"\"\"\n",
        "    Simple GCN layer, similar to https://arxiv.org/abs/1609.02907\n",
        "    \"\"\"\n",
        "\n",
        "    def __init__(self, in_features, out_features,  drop_out = 0, activation=None, bias=True):\n",
        "        super(GraphConvolution, self).__init__()\n",
        "        self.in_features = in_features\n",
        "        self.out_features = out_features\n",
        "        self.weight = Parameter(torch.FloatTensor(in_features, out_features))\n",
        "        print(self.weight.size())\n",
        "        if bias:\n",
        "            self.bias = Parameter(torch.zeros(1, out_features))\n",
        "        else:\n",
        "            self.register_parameter('bias', None)\n",
        "        self.reset_parameters(in_features, out_features)\n",
        "        self.dropout = torch.nn.Dropout(drop_out)\n",
        "        self.activation =  activation\n",
        "\n",
        "    def reset_parameters(self,in_features, out_features):\n",
        "        stdv = np.sqrt(6.0/(in_features+out_features))\n",
        "        # stdv = 1. / math.sqrt(self.weight.size(1))\n",
        "        self.weight.data.uniform_(-stdv, stdv)\n",
        "        # if self.bias is not None:\n",
        "        #     torch.nn.init.zeros_(self.bias)\n",
        "            # self.bias.data.uniform_(-stdv, stdv)\n",
        "\n",
        "\n",
        "    def forward(self, input, adj, feature_less = False):\n",
        "        if feature_less:\n",
        "            support = self.weight\n",
        "            support = self.dropout(support)\n",
        "        else:\n",
        "            input = self.dropout(input)\n",
        "            support = torch.mm(input, self.weight)\n",
        "        output = torch.spmm(adj, support)\n",
        "        if self.bias is not None:\n",
        "            output = output + self.bias\n",
        "        if self.activation is not None:\n",
        "            output = self.activation(output)\n",
        "        return output\n",
        "\n",
        "    def __repr__(self):\n",
        "        return self.__class__.__name__ + ' (' \\\n",
        "               + str(self.in_features) + ' -> ' \\\n",
        "               + str(self.out_features) + ')'"
      ],
      "metadata": {
        "id": "IQZVgPEvP9l8"
      },
      "execution_count": 240,
      "outputs": []
    },
    {
      "cell_type": "code",
      "source": [
        "class GCN(nn.Module):\n",
        "    def __init__(self, nfeat, nhid, nclass, dropout, n_layers = 2):\n",
        "        super(GCN, self).__init__()\n",
        "        self.n_layers = n_layers\n",
        "        self.gc_list = []\n",
        "        if n_layers >= 2:\n",
        "            self.gc1 = GraphConvolution(nfeat, nhid, dropout, activation = nn.ReLU())\n",
        "            self.gc_list = nn.ModuleList([GraphConvolution(nhid, nhid, dropout, activation = nn.ReLU()) for _ in range(self.n_layers-2)])\n",
        "            self.gcf = GraphConvolution(nhid, nclass, dropout)\n",
        "        else:\n",
        "            self.gc1 = GraphConvolution(nfeat, nclass, dropout)\n",
        "\n",
        "    def forward(self, x, adj):\n",
        "        if self.n_layers>=2:\n",
        "            x = self.gc1(x, adj, feature_less = True)\n",
        "            for i in range(self.n_layers-2):\n",
        "                x = self.gc_list[i](x,adj)\n",
        "            x = self.gcf(x,adj)\n",
        "        else:\n",
        "            x = self.gc1(x, adj, feature_less = True)\n",
        "        return x"
      ],
      "metadata": {
        "id": "qRT2Xt9OQWOf"
      },
      "execution_count": 241,
      "outputs": []
    },
    {
      "cell_type": "code",
      "source": [
        "def cal_accuracy(predictions,labels):\n",
        "    pred = torch.argmax(predictions,-1).cpu().tolist()\n",
        "    lab = labels.cpu().tolist()\n",
        "    cor = 0\n",
        "    for i in range(len(pred)):\n",
        "        if pred[i] == lab[i]:\n",
        "            cor += 1\n",
        "    return cor/len(pred)"
      ],
      "metadata": {
        "id": "K-g-NUO6QgLz"
      },
      "execution_count": 242,
      "outputs": []
    },
    {
      "cell_type": "code",
      "source": [
        "criterion = nn.CrossEntropyLoss()\n",
        "\n",
        "model = GCN(nfeat=docs_size+vocab_size, nhid=HIDDEN_DIM, nclass=2, dropout=DROP_OUT,n_layers=NUM_LAYERS).to(device)\n",
        "optimizer = optim.Adam(model.parameters(), lr=LR, weight_decay=WEIGHT_DECAY)"
      ],
      "metadata": {
        "id": "AYOhWieMQ07A",
        "colab": {
          "base_uri": "https://localhost:8080/"
        },
        "outputId": "e2a176b9-da5d-4a32-ac73-94b6f84a7d11"
      },
      "execution_count": 243,
      "outputs": [
        {
          "output_type": "stream",
          "name": "stdout",
          "text": [
            "torch.Size([68805, 440])\n",
            "torch.Size([440, 2])\n"
          ]
        }
      ]
    },
    {
      "cell_type": "code",
      "source": [
        "train_size=train_N\n",
        "test_size=test_N\n"
      ],
      "metadata": {
        "id": "9DMcrH3ScI3n"
      },
      "execution_count": 244,
      "outputs": []
    },
    {
      "cell_type": "code",
      "source": [
        "features = np.arange(docs_size+vocab_size)\n",
        "features = torch.FloatTensor(features).to(device)"
      ],
      "metadata": {
        "id": "f7hpx6T3exAP"
      },
      "execution_count": 245,
      "outputs": []
    },
    {
      "cell_type": "code",
      "source": [
        "def generate_train_val(train_pro=0.9):\n",
        "    real_train_size = int(train_pro*train_size)\n",
        "    val_size = train_size-real_train_size\n",
        "\n",
        "    idx_train = np.random.choice(train_size, real_train_size,replace=False)\n",
        "    idx_train.sort()\n",
        "    idx_val = []\n",
        "    pointer = 0\n",
        "    for v in range(train_size):\n",
        "        if pointer<len(idx_train) and idx_train[pointer] == v:\n",
        "            pointer +=1\n",
        "        else:\n",
        "            idx_val.append(v)\n",
        "    idx_test = range(train_N, train_N+test_N)\n",
        "    return idx_train, idx_val, idx_test\n",
        "\n",
        "idx_train, idx_val, idx_test = generate_train_val()"
      ],
      "metadata": {
        "id": "zmpy3UNHw4iy"
      },
      "execution_count": 246,
      "outputs": []
    },
    {
      "cell_type": "code",
      "source": [
        "import time\n",
        "\n",
        "def train_model(show_result = True):\n",
        "    val_loss = []\n",
        "    l_calc = 1\n",
        "    for epoch in tqdm(np.arange(NUM_EPOCHS)):\n",
        "        t = time.time()\n",
        "        model.train()\n",
        "        optimizer.zero_grad()\n",
        "        output= model(features, Adj_Matrix)\n",
        "        loss_train = criterion(output[idx_train], labels[idx_train])\n",
        "        acc_train = cal_accuracy(output[idx_train], labels[idx_train])\n",
        "        loss_train.backward()\n",
        "        optimizer.step()\n",
        "\n",
        "        model.eval()\n",
        "        output = model(features, Adj_Matrix)\n",
        "\n",
        "        loss_val = criterion(output[idx_val], labels[idx_val])\n",
        "        val_loss.append(loss_val.item())\n",
        "        acc_val = cal_accuracy(output[idx_val], labels[idx_val])\n",
        "        if show_result:\n",
        "            print(  'Epoch: {:04d}'.format(epoch+1),\n",
        "                    'loss_train: {:.4f}'.format(loss_train.item()),\n",
        "                    'acc_train: {:.4f}'.format(acc_train),\n",
        "                    'loss_val: {:.4f}'.format(loss_val.item()),\n",
        "                    'acc_val: {:.4f}'.format(acc_val),\n",
        "                    'time: {:.4f}s'.format(time.time() - t))\n",
        "        if epoch%10==0:\n",
        "          torch.save(model.state_dict(), \"/content/drive/MyDrive/IR_Project/dataset/model_latest.pth\")\n",
        "        if epoch > EARLY_STOPPING and np.min(val_loss[-EARLY_STOPPING:]) > np.min(val_loss[:-EARLY_STOPPING]) :\n",
        "            if show_result:\n",
        "                print(\"Early Stopping...\")\n",
        "            break\n",
        "        l_calc+=1\n",
        "    return l_calc\n",
        "l_calc = train_model()"
      ],
      "metadata": {
        "colab": {
          "base_uri": "https://localhost:8080/",
          "height": 518,
          "referenced_widgets": [
            "b1fa5e5498d24692a71ecb53701f1907",
            "49939fa9de494c82b5b2f3c3d0996950",
            "1d8e760852df437ab57bcb005c935c06",
            "48e512ed73df4ef6a909a8d2c1575c0b",
            "799fe20db3a545f7beaf26248a4e31da",
            "d2a2c7e7fe1d4892a9800e1abe15a58e",
            "3b45dedb321f41638e5cda0d5debb1e3",
            "4f3da245937446e0a8dc57596769634a",
            "ec5f4db1367b437eb12e8351428bb21b",
            "906966c34fbb4ac7af8b66663d8e20bb",
            "144a825a511945b0b4f513b6ebf9c0b9"
          ]
        },
        "id": "VIYS5fK_cDCB",
        "outputId": "c9322d0f-d733-4cfc-cee9-f0fbcf5b1038"
      },
      "execution_count": 247,
      "outputs": [
        {
          "output_type": "display_data",
          "data": {
            "text/plain": [
              "  0%|          | 0/200 [00:00<?, ?it/s]"
            ],
            "application/vnd.jupyter.widget-view+json": {
              "version_major": 2,
              "version_minor": 0,
              "model_id": "b1fa5e5498d24692a71ecb53701f1907"
            }
          },
          "metadata": {}
        },
        {
          "output_type": "stream",
          "name": "stdout",
          "text": [
            "Epoch: 0001 loss_train: 0.6931 acc_train: 0.4756 loss_val: 0.7175 acc_val: 0.4000 time: 1.2102s\n",
            "Epoch: 0002 loss_train: 0.6842 acc_train: 0.5244 loss_val: 0.6842 acc_val: 0.5000 time: 1.1419s\n",
            "Epoch: 0003 loss_train: 0.6679 acc_train: 0.8171 loss_val: 0.6746 acc_val: 0.6000 time: 1.1385s\n",
            "Epoch: 0004 loss_train: 0.6425 acc_train: 0.8902 loss_val: 0.6720 acc_val: 0.4000 time: 1.1398s\n",
            "Epoch: 0005 loss_train: 0.6047 acc_train: 0.5732 loss_val: 0.6628 acc_val: 0.4000 time: 1.1380s\n",
            "Epoch: 0006 loss_train: 0.5609 acc_train: 0.6585 loss_val: 0.6272 acc_val: 0.5000 time: 1.1439s\n",
            "Epoch: 0007 loss_train: 0.5023 acc_train: 0.9268 loss_val: 0.5884 acc_val: 0.9000 time: 1.1494s\n",
            "Epoch: 0008 loss_train: 0.4436 acc_train: 0.9878 loss_val: 0.5567 acc_val: 0.9000 time: 1.1459s\n",
            "Epoch: 0009 loss_train: 0.3776 acc_train: 0.9878 loss_val: 0.5274 acc_val: 0.9000 time: 1.1523s\n",
            "Epoch: 0010 loss_train: 0.3109 acc_train: 0.9878 loss_val: 0.4916 acc_val: 0.9000 time: 1.1510s\n",
            "Epoch: 0011 loss_train: 0.2523 acc_train: 0.9878 loss_val: 0.4565 acc_val: 0.8000 time: 1.1507s\n",
            "Epoch: 0012 loss_train: 0.1970 acc_train: 0.9878 loss_val: 0.4363 acc_val: 0.8000 time: 1.1508s\n",
            "Epoch: 0013 loss_train: 0.1520 acc_train: 0.9878 loss_val: 0.4129 acc_val: 0.8000 time: 1.1540s\n",
            "Epoch: 0014 loss_train: 0.1138 acc_train: 0.9878 loss_val: 0.3838 acc_val: 0.8000 time: 1.1569s\n",
            "Epoch: 0015 loss_train: 0.0830 acc_train: 0.9878 loss_val: 0.3626 acc_val: 0.8000 time: 1.1594s\n",
            "Epoch: 0016 loss_train: 0.0593 acc_train: 1.0000 loss_val: 0.3607 acc_val: 0.8000 time: 1.1612s\n",
            "Epoch: 0017 loss_train: 0.0418 acc_train: 1.0000 loss_val: 0.3745 acc_val: 0.8000 time: 1.1617s\n",
            "Epoch: 0018 loss_train: 0.0310 acc_train: 1.0000 loss_val: 0.4011 acc_val: 0.8000 time: 1.1632s\n",
            "Epoch: 0019 loss_train: 0.0209 acc_train: 1.0000 loss_val: 0.4276 acc_val: 0.8000 time: 1.1657s\n",
            "Epoch: 0020 loss_train: 0.0156 acc_train: 1.0000 loss_val: 0.4521 acc_val: 0.8000 time: 1.1629s\n",
            "Epoch: 0021 loss_train: 0.0102 acc_train: 1.0000 loss_val: 0.4679 acc_val: 0.8000 time: 1.1612s\n",
            "Epoch: 0022 loss_train: 0.0081 acc_train: 1.0000 loss_val: 0.4724 acc_val: 0.8000 time: 1.1633s\n",
            "Epoch: 0023 loss_train: 0.0059 acc_train: 1.0000 loss_val: 0.4714 acc_val: 0.8000 time: 1.1556s\n",
            "Epoch: 0024 loss_train: 0.0043 acc_train: 1.0000 loss_val: 0.4683 acc_val: 0.8000 time: 1.1543s\n",
            "Epoch: 0025 loss_train: 0.0031 acc_train: 1.0000 loss_val: 0.4644 acc_val: 0.8000 time: 1.1526s\n",
            "Epoch: 0026 loss_train: 0.0024 acc_train: 1.0000 loss_val: 0.4606 acc_val: 0.8000 time: 1.1521s\n",
            "Early Stopping...\n"
          ]
        }
      ]
    },
    {
      "cell_type": "code",
      "source": [
        "print(len(test_labels))\n",
        "print(len(train_labels))"
      ],
      "metadata": {
        "colab": {
          "base_uri": "https://localhost:8080/"
        },
        "id": "OAJs9uExwPii",
        "outputId": "1ddf9e8c-6f4c-4ee9-b833-7b004d9ab51c"
      },
      "execution_count": 225,
      "outputs": [
        {
          "output_type": "stream",
          "name": "stdout",
          "text": [
            "206\n",
            "185\n"
          ]
        }
      ]
    },
    {
      "cell_type": "code",
      "source": [
        "from sklearn.metrics import f1_score, accuracy_score\n",
        "def test():\n",
        "    model.eval()\n",
        "    output = model(features, Adj_Matrix)\n",
        "    predictions = torch.argmax(output[idx_test],-1).cpu().tolist()\n",
        "    acc = accuracy_score(test_labels,predictions)\n",
        "    f11 = f1_score(test_labels,predictions, average='macro')\n",
        "    f12 = f1_score(test_labels,predictions, average = 'weighted')\n",
        "    return acc, f11, f12\n",
        "\n",
        "(acc, f11, f12) = test()\n",
        "print(\"Accuracy =\",acc)\n",
        "print(\"Macro F-1 =\",f11)\n",
        "print(\"Weighted =\",f12)"
      ],
      "metadata": {
        "colab": {
          "base_uri": "https://localhost:8080/"
        },
        "id": "kkspyBacv0g5",
        "outputId": "df59345a-e09c-4757-e2de-0a06b1272963"
      },
      "execution_count": 248,
      "outputs": [
        {
          "output_type": "stream",
          "name": "stdout",
          "text": [
            "Accuracy = 0.8157894736842105\n",
            "Macro F-1 = 0.8105263157894738\n",
            "Weighted = 0.8182825484764543\n"
          ]
        }
      ]
    },
    {
      "cell_type": "code",
      "source": [
        "file = open('/content/drive/MyDrive/IR_Project/dataset/Analysis.csv', 'a', newline='') \n",
        "writer = csv.writer(file) \n",
        "# writer.writerow([\"NUM_LAYERS\",\"HIDDEN_DIM\",\"DROP_OUT\",\"LR\",\"WEIGHT_DECAY\",\"EARLY_STOPPING\",\"NUM_EPOCHS\",\"train_ratio\",\"test_ratio\",\"wt_k\",\"wt_t\",\"wt_a\",\"window_size\",\"Accuracy\",\"F-1 Macro\",\"F-1 Weighted\",\"epochs_completed\"])\n",
        "writer.writerow([NUM_LAYERS,HIDDEN_DIM,DROP_OUT,LR,WEIGHT_DECAY,EARLY_STOPPING,NUM_EPOCHS,train_ratio,test_ratio,wt_k,wt_t,wt_a,window_size,acc,f11,f12,l_calc])\n",
        "file.close()\n"
      ],
      "metadata": {
        "id": "xy3PbsC57RCK"
      },
      "execution_count": 249,
      "outputs": []
    }
  ]
}