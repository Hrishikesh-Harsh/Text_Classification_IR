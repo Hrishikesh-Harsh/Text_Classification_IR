{
  "nbformat": 4,
  "nbformat_minor": 0,
  "metadata": {
    "colab": {
      "provenance": [],
      "authorship_tag": "ABX9TyPJVUlHl4bQKt4gPi5MObRX",
      "include_colab_link": true
    },
    "kernelspec": {
      "name": "python3",
      "display_name": "Python 3"
    },
    "language_info": {
      "name": "python"
    }
  },
  "cells": [
    {
      "cell_type": "markdown",
      "metadata": {
        "id": "view-in-github",
        "colab_type": "text"
      },
      "source": [
        "<a href=\"https://colab.research.google.com/github/Hrishikesh-Harsh/Text_Classification_IR/blob/main/Text_Classifier_IR.ipynb\" target=\"_parent\"><img src=\"https://colab.research.google.com/assets/colab-badge.svg\" alt=\"Open In Colab\"/></a>"
      ]
    },
    {
      "cell_type": "markdown",
      "source": [
        "### Use TF-IDF as prescribed\n",
        "### Treat Abstract, Key and Title differently\n",
        "### Order: $Key > Abstract ≈ Title$\n",
        "### Hence, $W_k > W_a \\approx W_t$\n",
        "### For TF, we can use $TF = 1 + log(n_t*W_t + n_k*W_k + n_a*W_a)$\n",
        "### One More Hyper-parameter to vary is Window size for (Word,Word) pairs\n",
        "### Use $3$ different Window sizes for $Key, Abstract, Title$: $Win_k, Win_a, Win_t$"
      ],
      "metadata": {
        "id": "bvuRuAI6OwL1"
      }
    },
    {
      "cell_type": "code",
      "source": [],
      "metadata": {
        "id": "fXkm6ja9Rone"
      },
      "execution_count": null,
      "outputs": []
    }
  ]
}